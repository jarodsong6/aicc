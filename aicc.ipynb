{
 "cells": [
  {
   "cell_type": "code",
   "execution_count": null,
   "metadata": {},
   "outputs": [],
   "source": [
    "import pandas as pd\n",
    "import numpy as np\n",
    "import MeCab\n",
    "\n",
    "from tqdm import tqdm_notebook"
   ]
  },
  {
   "cell_type": "code",
   "execution_count": null,
   "metadata": {
    "scrolled": true
   },
   "outputs": [],
   "source": [
    "%%time\n",
    "# read original data\n",
    "pd.set_option('display.max_colwidth', -1)\n",
    "csvData = pd.read_csv(\"rental.csv\", delimiter=\",\")\n",
    "display(csvData)"
   ]
  },
  {
   "cell_type": "code",
   "execution_count": null,
   "metadata": {},
   "outputs": [],
   "source": [
    "%%time\n",
    "# extract text columns\n",
    "txtCols = ['item_name','catch_copy','pc_caption','caption']\n",
    "dataTxt = csvData[txtCols + ['Category']]\n",
    "\n",
    "display(dataTxt)"
   ]
  },
  {
   "cell_type": "code",
   "execution_count": null,
   "metadata": {},
   "outputs": [],
   "source": [
    "%%time\n",
    "# remove irrelavant words\n",
    "dataTxtCopy = dataTxt.copy()\n",
    "dataTxtCopy.replace(['&nbsp;'],'',regex=True,inplace=True)\n",
    "dataTxtCopy.replace({'0':'', np.nan:''},inplace=True)\n",
    "dataTxtCopy.applymap(lambda x: x.rstrip() if type(x) is str else x)\n",
    "\n",
    "display(dataTxtCopy)"
   ]
  },
  {
   "cell_type": "code",
   "execution_count": null,
   "metadata": {},
   "outputs": [],
   "source": [
    "%%time\n",
    "# combine text columns\n",
    "allTxt = pd.DataFrame({'text': dataTxtCopy['item_name'] + dataTxtCopy['catch_copy'] + dataTxtCopy['pc_caption'] + dataTxtCopy['caption'], 'label': dataTxtCopy['Category']})\n",
    "display(allTxt)"
   ]
  },
  {
   "cell_type": "code",
   "execution_count": null,
   "metadata": {},
   "outputs": [],
   "source": [
    "%%time\n",
    "# extract nouns and verbs (feature selecting)\n",
    "mecab = MeCab.Tagger('-d /usr/local/lib/mecab/dic/mecab-ipadic-neologd')\n",
    "\n",
    "def extractWords(doc):\n",
    "    keywords = []\n",
    "    parsedStr = mecab.parse(doc)\n",
    "    for chunk in parsedStr.splitlines()[:-1]:\n",
    "        (surface, feature) = chunk.split('\\t')\n",
    "        if feature.startswith('名詞') or feature.startswith('動詞'):\n",
    "            lemma = feature.split(',')[6]\n",
    "            if lemma != '*':\n",
    "                keywords.append(lemma)\n",
    "            else:\n",
    "                keywords.append(surface)\n",
    "    return keywords\n",
    "\n",
    "\n",
    "bows = []\n",
    "txtList = list(allTxt['text'])\n",
    "for row in tqdm_notebook(txtList):\n",
    "    bow = extractWords(row)\n",
    "    bows.append(bow)\n",
    "display(pd.DataFrame(bows[:5]))"
   ]
  },
  {
   "cell_type": "code",
   "execution_count": null,
   "metadata": {},
   "outputs": [],
   "source": [
    "%%time\n",
    "# make all words set\n",
    "wordSet = set().union(*bows)\n",
    "\n",
    "display(wordSet)"
   ]
  },
  {
   "cell_type": "code",
   "execution_count": null,
   "metadata": {},
   "outputs": [],
   "source": [
    "%%time\n",
    "wordDicts = []\n",
    "wordDictInit = dict.fromkeys(wordSet, 0)\n",
    "\n",
    "for bow in tqdm_notebook(bows):\n",
    "    wordDict = wordDictInit\n",
    "    for word in bow:\n",
    "        wordDict[word] += 1\n",
    "    wordDicts.append(wordDict)\n",
    "\n",
    "display(pd.DataFrame.from_dict(wordDicts[:5]))"
   ]
  },
  {
   "cell_type": "code",
   "execution_count": null,
   "metadata": {},
   "outputs": [],
   "source": []
  }
 ],
 "metadata": {
  "kernelspec": {
   "display_name": "Python 3",
   "language": "python",
   "name": "python3"
  },
  "language_info": {
   "codemirror_mode": {
    "name": "ipython",
    "version": 3
   },
   "file_extension": ".py",
   "mimetype": "text/x-python",
   "name": "python",
   "nbconvert_exporter": "python",
   "pygments_lexer": "ipython3",
   "version": "3.6.5"
  }
 },
 "nbformat": 4,
 "nbformat_minor": 2
}
