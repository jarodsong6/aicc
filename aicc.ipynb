{
 "cells": [
  {
   "cell_type": "code",
   "execution_count": null,
   "metadata": {
    "scrolled": true
   },
   "outputs": [],
   "source": [
    "import pandas as pd\n",
    "import numpy as np\n",
    "import MeCab\n",
    "import math\n",
    "import collections\n",
    "\n",
    "from sklearn.feature_extraction import DictVectorizer\n",
    "from tqdm import tqdm_notebook"
   ]
  },
  {
   "cell_type": "code",
   "execution_count": null,
   "metadata": {
    "scrolled": true
   },
   "outputs": [],
   "source": [
    "%%time\n",
    "# read original data\n",
    "pd.set_option('display.max_colwidth', -1)\n",
    "csvData = pd.read_csv(\"rental.csv\", delimiter=\",\", nrows=5000)\n",
    "display(csvData)"
   ]
  },
  {
   "cell_type": "code",
   "execution_count": null,
   "metadata": {
    "scrolled": true
   },
   "outputs": [],
   "source": [
    "%%time\n",
    "# extract text columns\n",
    "txtCols = ['item_name','catch_copy','pc_caption','caption']\n",
    "dataTxt = csvData[txtCols + ['Category']]\n",
    "\n",
    "display(dataTxt)"
   ]
  },
  {
   "cell_type": "code",
   "execution_count": null,
   "metadata": {
    "scrolled": true
   },
   "outputs": [],
   "source": [
    "%%time\n",
    "# remove irrelavant words\n",
    "dataTxtCopy = dataTxt.copy()\n",
    "dataTxtCopy.replace(['&nbsp;'],'',regex=True,inplace=True)\n",
    "dataTxtCopy.replace({'0':'', np.nan:''},inplace=True)\n",
    "dataTxtCopy.applymap(lambda x: x.rstrip() if type(x) is str else x)\n",
    "\n",
    "display(dataTxtCopy)"
   ]
  },
  {
   "cell_type": "code",
   "execution_count": null,
   "metadata": {
    "scrolled": true
   },
   "outputs": [],
   "source": [
    "%%time\n",
    "# combine text columns\n",
    "allTxt = pd.DataFrame({'text': dataTxtCopy['item_name'] + dataTxtCopy['catch_copy'] + dataTxtCopy['pc_caption'] + dataTxtCopy['caption'], 'label': dataTxtCopy['Category']})\n",
    "display(allTxt)"
   ]
  },
  {
   "cell_type": "code",
   "execution_count": null,
   "metadata": {
    "scrolled": true
   },
   "outputs": [],
   "source": [
    "%%time\n",
    "# extract nouns and verbs (feature selecting)\n",
    "mecab = MeCab.Tagger('-d /usr/local/lib/mecab/dic/mecab-ipadic-neologd')\n",
    "\n",
    "def extractWords(doc):\n",
    "    keywords = []\n",
    "    parsedStr = mecab.parse(doc)\n",
    "    for chunk in parsedStr.splitlines()[:-1]:\n",
    "        (surface, feature) = chunk.split('\\t')\n",
    "        if feature.startswith('名詞') or feature.startswith('動詞'):\n",
    "            lemma = feature.split(',')[6]\n",
    "            if lemma != '*':\n",
    "                keywords.append(lemma)\n",
    "            else:\n",
    "                keywords.append(surface)\n",
    "    return keywords\n",
    "\n",
    "\n",
    "docs = []\n",
    "txtList = list(allTxt['text'])\n",
    "for row in tqdm_notebook(txtList):\n",
    "    doc = extractWords(row)\n",
    "    docs.append(doc)\n",
    "display(pd.DataFrame(docs[:5]))"
   ]
  },
  {
   "cell_type": "code",
   "execution_count": null,
   "metadata": {
    "scrolled": true
   },
   "outputs": [],
   "source": [
    "%%time\n",
    "# make all words set\n",
    "vocabulary = set().union(*docs)\n",
    "\n",
    "display(vocabulary)"
   ]
  },
  {
   "cell_type": "code",
   "execution_count": null,
   "metadata": {
    "scrolled": true
   },
   "outputs": [],
   "source": [
    "%%time\n",
    "# TF\n",
    "tfDicts = [collections.Counter(i) for i in docs]\n",
    "\n",
    "display(pd.DataFrame(tfDicts[:5]))"
   ]
  },
  {
   "cell_type": "code",
   "execution_count": null,
   "metadata": {
    "scrolled": true
   },
   "outputs": [],
   "source": [
    "%%time\n",
    "# log normalize TF and calculate IDF\n",
    "\n",
    "tfNmDicts = []\n",
    "idfDict = dict.fromkeys(vocabulary, 0)\n",
    "N = len(tfDicts)\n",
    "\n",
    "for tfDict in tqdm_notebook(tfDicts):\n",
    "    # log normalize TF\n",
    "    tfNmDict = {k: 1 + math.log(v) for k, v in tfDict.items()}\n",
    "    tfNmDicts.append(tfNmDict)\n",
    "    \n",
    "    # IDF\n",
    "    for word, count in tfDict.items():\n",
    "        if count > 0:\n",
    "            idfDict[word] += 1\n",
    "            \n",
    "idfDict.update({k: math.log(N / float(v)) for k, v in tqdm_notebook(idfDict.items())})\n",
    "\n",
    "display(pd.DataFrame.from_dict(tfNmDicts[:5]))\n",
    "display(idfDict)"
   ]
  },
  {
   "cell_type": "code",
   "execution_count": null,
   "metadata": {
    "scrolled": true
   },
   "outputs": [],
   "source": [
    "%%time\n",
    "# TFIDF\n",
    "tfidfDicts = []\n",
    "\n",
    "for tfDict in tqdm_notebook(tfDicts):\n",
    "    tfidfDict = {k: v*idfDict[k] for k, v in tfDict.items()}\n",
    "    tfidfDicts.append(tfidfDict)\n",
    "\n",
    "    \n",
    "display(pd.DataFrame.from_dict(tfidfDicts[:5]))"
   ]
  },
  {
   "cell_type": "code",
   "execution_count": null,
   "metadata": {
    "scrolled": true
   },
   "outputs": [],
   "source": [
    "v = DictVectorizer(sparse=False)\n",
    "X = v.fit_transform(tfidfDicts[:20])\n",
    "\n",
    "display(X)"
   ]
  },
  {
   "cell_type": "code",
   "execution_count": null,
   "metadata": {},
   "outputs": [],
   "source": []
  }
 ],
 "metadata": {
  "kernelspec": {
   "display_name": "Python 3",
   "language": "python",
   "name": "python3"
  },
  "language_info": {
   "codemirror_mode": {
    "name": "ipython",
    "version": 3
   },
   "file_extension": ".py",
   "mimetype": "text/x-python",
   "name": "python",
   "nbconvert_exporter": "python",
   "pygments_lexer": "ipython3",
   "version": "3.6.5"
  }
 },
 "nbformat": 4,
 "nbformat_minor": 2
}
